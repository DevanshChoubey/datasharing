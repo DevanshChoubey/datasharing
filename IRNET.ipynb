{
  "nbformat": 4,
  "nbformat_minor": 0,
  "metadata": {
    "colab": {
      "name": "IRNET",
      "provenance": [],
      "collapsed_sections": [],
      "include_colab_link": true
    },
    "kernelspec": {
      "name": "python3",
      "display_name": "Python 3"
    },
    "accelerator": "GPU"
  },
  "cells": [
    {
      "cell_type": "markdown",
      "metadata": {
        "id": "view-in-github",
        "colab_type": "text"
      },
      "source": [
        "<a href=\"https://colab.research.google.com/github/DevanshChoubey/datasharing/blob/master/IRNET.ipynb\" target=\"_parent\"><img src=\"https://colab.research.google.com/assets/colab-badge.svg\" alt=\"Open In Colab\"/></a>"
      ]
    },
    {
      "cell_type": "code",
      "metadata": {
        "id": "uKxXfjeNyw_s",
        "colab_type": "code",
        "colab": {}
      },
      "source": [
        "#!wget https://nlp.stanford.edu/data/wordvecs/glove.42B.300d.zip\n",
        "#!wget https://storage.googleapis.com/xlnet/released_models/cased_L-24_H-1024_A-16.zip\n",
        "!wget https://storage.googleapis.com/bert_models/2018_10_18/uncased_L-12_H-768_A-12.zip\n",
        "#!wget https://storage.googleapis.com/xlnet/released_models/cased_L-12_H-768_A-12.zip"
      ],
      "execution_count": 0,
      "outputs": []
    },
    {
      "cell_type": "code",
      "metadata": {
        "id": "nHANBOTloJ3E",
        "colab_type": "code",
        "colab": {}
      },
      "source": [
        "!unzip /content/IRNet-bert_2.zip\n",
        "\n",
        "import os\n",
        "!pip install pytorch-pretrained-bert==0.5.1\n",
        "!pip install transformers\n",
        "import nltk\n",
        "nltk.download('averaged_perceptron_tagger')\n",
        "nltk.download('punkt')\n",
        "nltk.download('wordnet')\n",
        "os.chdir(\"/content/IRNet-bert\")\n",
        "!pip install pattern3\n",
        "from google.colab import drive\n",
        "drive.mount('/content/drive')\n",
        "\n",
        "#from pattern3.en import lemma\n",
        "!cp \"/content/drive/My Drive/trained_model.zip\" .\n",
        "\n",
        "!unzip /content/IRNet-bert/trained_model.zip\n",
        "\n",
        "\n",
        "import os\n",
        "os.chdir('/content/IRNet-bert')\n",
        "#os.chdir('/content/IRNet-bert/preprocess')\n",
        "\n",
        "print(os.getcwd())\n",
        "# /Users/mbp/Documents/my-project/python-snippets"
      ],
      "execution_count": 0,
      "outputs": []
    },
    {
      "cell_type": "code",
      "metadata": {
        "id": "Nwy0vpbTlrrH",
        "colab_type": "code",
        "outputId": "77563b18-9892-4006-fb8a-185811a556fd",
        "colab": {
          "base_uri": "https://localhost:8080/",
          "height": 388
        }
      },
      "source": [
        "!sh eval.sh \"/content/IRNet-bert/reproduce21582773992/best_model.model\""
      ],
      "execution_count": 0,
      "outputs": [
        {
          "output_type": "stream",
          "text": [
            "Better speed can be achieved with apex installed from https://www.github.com/nvidia/apex.\n",
            "Namespace(A_embed_size=64, Fil_embed_size=64, N_embed_size=64, Ord_embed_size=64, Root_embed_size=64, Sel_embed_size=64, Sup_embed_size=64, action_embed_size=64, alpha=0.1, att_vec_size=300, batch_size=1, beam_size=5, bert_model='bert-base-uncased', col_embed_size=300, column_att='affine', column_pointer=False, cuda=True, dataset='./data', decode_max_time_step=40, decoder_heads=4, decoder_word_dropout=0.5, dropout=0.5, embed_size=300, encode_dependency=False, encode_entity=False, encode_sketch=False, encoder_dim=768, encoder_heads=4, entity_embed_size=5, field_embed_size=64, hidden_size=300, kl_anneal=False, loss_epoch_threshold=20, lstm='lstm', model='/content/IRNet-bert/reproduce21582773992/best_model.model', model_name='table', no_query_vec_to_action_map=False, parent_feeding=False, pos_tag='', pos_tag_embed_size=10, query_vec_to_action_diff_map=False, readout='identity', seed=5783287, sentence_features=True, sketch_history=False, sketch_loss_coefficient=0.2, stanford_tokenized=False, table_vocab='/home/v-zezhan/Seq2Tree/data/table_vocab.bin', type_embed_size=32, vocab='./data/vocab.bin', word_dropout=0.2)\n",
            "Loading from datasets...\n",
            "Loading data from ./data/tables.json\n",
            "Loading data from ./data/train.json\n",
            "Loading data from ./data/dev.json\n",
            "Loading data from ./data/dev.json\n",
            "beam size is 5\n",
            "/usr/local/lib/python3.6/dist-packages/torch/nn/modules/rnn.py:50: UserWarning: dropout option adds dropout after all but last recurrent layer, so non-zero dropout expects num_layers greater than 1, but got dropout=0.2 and num_layers=1\n",
            "  \"num_layers={}\".format(dropout, num_layers))\n",
            "Encode Sketch:  False\n",
            "Parent Feeding:  False\n",
            "Use Sketch History:  False\n",
            "Use Column Pointer:  False\n",
            "Use Sentence Features:  True\n",
            "Use Stanford Tokenized:  False\n",
            "/usr/local/lib/python3.6/dist-packages/torch/nn/functional.py:1340: UserWarning: nn.functional.tanh is deprecated. Use torch.tanh instead.\n",
            "  warnings.warn(\"nn.functional.tanh is deprecated. Use torch.tanh instead.\")\n",
            "sketch acc is  0.21739130434782608\n",
            "0.0 0.0\n",
            "Acc: 0.000000, Beam Acc: 0.000000\n"
          ],
          "name": "stdout"
        }
      ]
    },
    {
      "cell_type": "code",
      "metadata": {
        "id": "GvSYBuBFQTIT",
        "colab_type": "code",
        "outputId": "0b3aec16-75fc-4850-b966-c52edfb32c6d",
        "colab": {
          "base_uri": "https://localhost:8080/",
          "height": 33
        }
      },
      "source": [
        "!python /content/IRNet-bert/sem2SQL.py --data_path /content/IRNet-bert/data --input_path /content/IRNet-bert/lf_predict.json --output_path U.json"
      ],
      "execution_count": 0,
      "outputs": [
        {
          "output_type": "stream",
          "text": [
            "23 0\n"
          ],
          "name": "stdout"
        }
      ]
    },
    {
      "cell_type": "code",
      "metadata": {
        "id": "2yq-R0Y0p_4V",
        "colab_type": "code",
        "colab": {}
      },
      "source": [
        "!sh /content/IRNet-bert/preprocess/run_me.sh /content/IRNet-bert/data/dev.json /content/IRNet-bert/data/tables.json "
      ],
      "execution_count": 0,
      "outputs": []
    },
    {
      "cell_type": "code",
      "metadata": {
        "id": "seQBnyLovSI_",
        "colab_type": "code",
        "colab": {}
      },
      "source": [
        "!python /content/IRNet-bert/preprocess/data_process.py --data_path /content/IRNet-bert/data/dev.json --table_path /content/IRNet-bert/data/tables.json --output \"process_data.json\"\n",
        "\n",
        "\n",
        "!python /content/IRNet-bert/preprocess/sql2SemQL.py --data_path process_data.json --table_path /content/IRNet-bert/data/tables.json --output /content/IRNet-bert/data/dev.json"
      ],
      "execution_count": 0,
      "outputs": []
    },
    {
      "cell_type": "code",
      "metadata": {
        "id": "56nXuGTYeGyX",
        "colab_type": "code",
        "colab": {}
      },
      "source": [
        "#import sys\n",
        "#sys.path.append('/usr/local/lib/python3.6/site-packages')\n",
        "#!pip install pattern\n",
        "# from /content/IRNet/src/rule/pattern import lemma\n",
        "from pattern.en import lemma\n",
        "import torch\n",
        "print('Torch', torch.__version__, 'CUDA', torch.version.cuda)\n",
        "print('Device:', torch.device('cuda:0'))"
      ],
      "execution_count": 0,
      "outputs": []
    },
    {
      "cell_type": "code",
      "metadata": {
        "id": "mGApUJeWRRQt",
        "colab_type": "code",
        "colab": {}
      },
      "source": [
        "!pip install transformers\n",
        "import torch\n",
        "import nltk\n",
        "import spacy\n",
        "nltk.download('stopwords')\n",
        "nltk.download('wordnet')\n",
        "nltk.download('averaged_perceptron_tagger')\n",
        "nltk.download('punkt')\n",
        "from nltk.corpus import stopwords\n",
        "en_stopwords = stopwords.words('english')\n",
        "en_stopwords.append(\"show\")\n",
        "en_stopwords.append(\"count\")\n",
        "en_stopwords.append(\"detail\")\n",
        "\n",
        "\n",
        "\n",
        "from transformers import BertForQuestionAnswering\n",
        "from textblob import Word\n",
        "device = torch.device('cuda' if torch.cuda.is_available() else 'cpu')\n",
        "\n",
        "\n",
        "model_For_Where = BertForQuestionAnswering.from_pretrained('bert-large-uncased-whole-word-masking-finetuned-squad')\n",
        "\n",
        "from transformers import BertTokenizer\n",
        "\n",
        "model_For_Where.to(device)\n",
        "tokenizer = BertTokenizer.from_pretrained('bert-large-uncased-whole-word-masking-finetuned-squad')\n",
        "\n"
      ],
      "execution_count": 0,
      "outputs": []
    },
    {
      "cell_type": "code",
      "metadata": {
        "id": "lmtj-jEwhoLp",
        "colab_type": "code",
        "outputId": "a1590bfe-32b8-49c7-9854-8ba9d3da458a",
        "colab": {
          "base_uri": "https://localhost:8080/",
          "height": 33
        }
      },
      "source": [
        "n = '470009'\n",
        "if(n.isdigit()):\n",
        "  print(n)"
      ],
      "execution_count": 0,
      "outputs": [
        {
          "output_type": "stream",
          "text": [
            "470009\n"
          ],
          "name": "stdout"
        }
      ]
    },
    {
      "cell_type": "code",
      "metadata": {
        "id": "ZeUgnTFO-xaQ",
        "colab_type": "code",
        "colab": {}
      },
      "source": [
        ""
      ],
      "execution_count": 0,
      "outputs": []
    }
  ]
}